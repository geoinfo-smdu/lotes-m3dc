{
 "cells": [
  {
   "cell_type": "markdown",
   "metadata": {},
   "source": [
    "# Geometria do lote encapsulada\n",
    "\n",
    "Agora que encapsulamos todos os procedimentos em uma biblioteca podemos importala e carregar o mapa diretamente."
   ]
  },
  {
   "cell_type": "code",
   "execution_count": 1,
   "metadata": {},
   "outputs": [],
   "source": [
    "import lotes_fiscais as lf"
   ]
  },
  {
   "cell_type": "code",
   "execution_count": 2,
   "metadata": {
    "scrolled": true
   },
   "outputs": [
    {
     "data": {
      "application/vnd.jupyter.widget-view+json": {
       "model_id": "6c1001c5b0e948ed9c0222cf27678c58",
       "version_major": 2,
       "version_minor": 0
      },
      "text/plain": [
       "Map(center=[-23.545567989349365, -46.6351979970932], controls=(ZoomControl(options=['position', 'zoom_in_text'…"
      ]
     },
     "metadata": {},
     "output_type": "display_data"
    },
    {
     "data": {
      "image/svg+xml": [
       "<svg xmlns=\"http://www.w3.org/2000/svg\" xmlns:xlink=\"http://www.w3.org/1999/xlink\" width=\"100.0\" height=\"100.0\" viewBox=\"333047.76151182264 7395103.740758088 75.2136751859216 66.27134947758168\" preserveAspectRatio=\"xMinYMin meet\"><g transform=\"matrix(1,0,0,-1,0,14790273.752865653)\"><path fill-rule=\"evenodd\" fill=\"#66cc99\" stroke=\"#555555\" stroke-width=\"1.504273503718432\" opacity=\"0.6\" d=\"M 333062.5814232747,7395130.31986957 L 333068.5494283844,7395140.856384199 L 333061.04001800274,7395145.107487863 L 333050.5472034962,7395151.0475929845 L 333057.93940934096,7395166.236413801 L 333061.6794138102,7395167.226415892 L 333071.070226799,7395161.877811269 L 333078.37873690925,7395157.71520767 L 333087.0496489027,7395152.7767034 L 333094.4981592054,7395148.534299731 L 333102.9275708647,7395143.733295581 L 333110.209280936,7395139.585991996 L 333119.61949395307,7395134.226387362 L 333120.189495335,7395131.26638376 L 333107.7292852887,7395106.526449762 L 333095.13736799394,7395113.162555287 L 333088.0106582045,7395116.918458413 L 333078.98774581135,7395121.67356237 L 333071.82933597884,7395125.446165513 L 333062.5814232747,7395130.31986957 z\" /></g></svg>"
      ],
      "text/plain": [
       "<shapely.geometry.polygon.Polygon at 0x7fbdf0cb5d90>"
      ]
     },
     "metadata": {},
     "output_type": "display_data"
    },
    {
     "data": {
      "image/svg+xml": [
       "<svg xmlns=\"http://www.w3.org/2000/svg\" xmlns:xlink=\"http://www.w3.org/1999/xlink\" width=\"100.0\" height=\"100.0\" viewBox=\"333176.3793783405 7395048.094996818 80.76780039898586 51.33297215681523\" preserveAspectRatio=\"xMinYMin meet\"><g transform=\"matrix(1,0,0,-1,0,14790147.522965793)\"><path fill-rule=\"evenodd\" fill=\"#66cc99\" stroke=\"#555555\" stroke-width=\"1.6153560079797171\" opacity=\"0.6\" d=\"M 333216.65243401774,7395052.986706835 L 333216.5196337065,7395053.626307611 L 333200.11951341265,7395052.386902353 L 333182.91039211734,7395051.086396833 L 333181.39558622765,7395068.766018776 L 333179.3707783553,7395092.396448106 L 333184.9495852995,7395092.636649666 L 333195.8595988799,7395093.106352719 L 333195.87959909486,7395092.266351664 L 333217.43962580885,7395093.746358389 L 333225.9497363223,7395094.465061216 L 333226.812837389,7395094.537961502 L 333238.259851531,7395095.5047653 L 333240.10225380794,7395095.66036591 L 333249.291965162,7395096.436568961 L 333252.8294750262,7395072.37633943 L 333254.1557787247,7395063.355728359 L 333245.87916864676,7395062.009124795 L 333242.659864726,7395061.485423408 L 333235.28965574864,7395060.286320237 L 333229.97964931553,7395059.286317779 L 333222.95964075264,7395058.206314836 L 333219.85963721934,7395056.626312146 L 333220.329638502,7395053.556308381 L 333216.65243401774,7395052.986706835 z\" /></g></svg>"
      ],
      "text/plain": [
       "<shapely.geometry.polygon.Polygon at 0x7fbdf0c9ac50>"
      ]
     },
     "metadata": {},
     "output_type": "display_data"
    }
   ],
   "source": [
    "lf.show_map()"
   ]
  },
  {
   "cell_type": "code",
   "execution_count": null,
   "metadata": {},
   "outputs": [],
   "source": [
    "##TODO\n",
    "# Retornar a geometria da feição do lote"
   ]
  }
 ],
 "metadata": {
  "kernelspec": {
   "display_name": "Python 3",
   "language": "python",
   "name": "python3"
  },
  "language_info": {
   "codemirror_mode": {
    "name": "ipython",
    "version": 3
   },
   "file_extension": ".py",
   "mimetype": "text/x-python",
   "name": "python",
   "nbconvert_exporter": "python",
   "pygments_lexer": "ipython3",
   "version": "3.7.4"
  }
 },
 "nbformat": 4,
 "nbformat_minor": 4
}
