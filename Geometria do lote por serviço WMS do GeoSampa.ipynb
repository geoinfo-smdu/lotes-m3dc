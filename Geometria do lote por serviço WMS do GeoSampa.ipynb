{
 "cells": [
  {
   "cell_type": "markdown",
   "metadata": {},
   "source": [
    "# Geometria do lote fiscal a partir do serviço WMS do GeoSampa\n",
    "\n",
    "Os lotes fiscais estão disponíveis no [GeoSampa](http://geosampa.prefeitura.sp.gov.br) mas também pode ser acessador por serviço WMS"
   ]
  },
  {
   "cell_type": "code",
   "execution_count": 26,
   "metadata": {},
   "outputs": [
    {
     "name": "stdout",
     "output_type": "stream",
     "text": [
      "lote_cidadao\n",
      "[(-47.47849807885537, -24.19376329804249, -45.773692681083574, -23.137814287792693, 'CRS:84'), (248200.0, 7324100.0, 420800.0, 7439100.0, 'EPSG:31983')]\n",
      "Lotes fiscais com informações de zoneamento. A Lei de Zoneamento estabelece normas complementares ao Plano Diretor Estratégico, institui os Planos Regionais Estratégicos das Subprefeituras, dispõe sobre o parcelamento, disciplina e ordena o Uso e Ocupação do Solo do Município de São Paulo. Os valores de zoneamento, estabelecido na Lei nº 13.885/2004, foram agregados as feições de lotes através dos números de setor, quadra e lote , tendo como base cartográfica o Mapa Digital da Cidade e as informações fiscais da Secretaria de Finanças.\n"
     ]
    }
   ],
   "source": [
    "from owslib.wms import WebMapService\n",
    "\n",
    "url_wms = 'http://wms.geosampa.prefeitura.sp.gov.br/geoserver/geoportal/wms'\n",
    "\n",
    "wms = WebMapService(url_wms, version='1.3.0')\n",
    "\n",
    "print(wms['lote_cidadao'].title)\n",
    "print(wms['lote_cidadao'].crs_list)\n",
    "print(wms['lote_cidadao'].abstract)"
   ]
  },
  {
   "cell_type": "markdown",
   "metadata": {},
   "source": [
    "## Feição do lote\n",
    "\n",
    "A partir de uma coordenada geográfica ou UTM podemos obter os dados de uma feição"
   ]
  },
  {
   "cell_type": "code",
   "execution_count": 2,
   "metadata": {},
   "outputs": [],
   "source": [
    "c = (333087.92005983833, 7395132.272480484)\n",
    "\n",
    "lote = wms.getfeatureinfo(layers = ['lote_cidadao'],\n",
    "                          format = 'image/png',\n",
    "                          info_format = 'application/json',\n",
    "                          srs = 'EPSG:31983',\n",
    "                          bbox = (c[0] - 1, c[1] - 1, c[0] + 1, c[1] + 1),\n",
    "                          size = (2, 2), \n",
    "                          xy = (1, 1))"
   ]
  },
  {
   "cell_type": "code",
   "execution_count": 3,
   "metadata": {},
   "outputs": [
    {
     "data": {
      "text/plain": [
       "'http://wms.geosampa.prefeitura.sp.gov.br:80/geoserver/geoportal/ows?SERVICE=WMS&service=WMS&version=1.3.0&request=GetFeatureInfo&layers=lote_cidadao&styles=&width=2&height=2&crs=EPSG%3A31983&bbox=333086.92005983833%2C7395131.272480484%2C333088.92005983833%2C7395133.272480484&format=image%2Fpng&transparent=FALSE&bgcolor=0xFFFFFF&exceptions=XML&query_layers=lote_cidadao&i=1&j=1&info_format=application%2Fjson&feature_count=20'"
      ]
     },
     "execution_count": 3,
     "metadata": {},
     "output_type": "execute_result"
    }
   ],
   "source": [
    "lote.geturl()"
   ]
  },
  {
   "cell_type": "code",
   "execution_count": 4,
   "metadata": {},
   "outputs": [],
   "source": [
    "import json\n",
    "lote_json = json.load(lote)"
   ]
  },
  {
   "cell_type": "code",
   "execution_count": 5,
   "metadata": {},
   "outputs": [],
   "source": [
    "from shapely.geometry import Polygon\n",
    "polygon = Polygon(lote_json['features'][0]['geometry']['coordinates'][0])"
   ]
  },
  {
   "cell_type": "code",
   "execution_count": 6,
   "metadata": {},
   "outputs": [
    {
     "data": {
      "image/svg+xml": [
       "<svg xmlns=\"http://www.w3.org/2000/svg\" xmlns:xlink=\"http://www.w3.org/1999/xlink\" width=\"100.0\" height=\"100.0\" viewBox=\"333047.76151182264 7395103.740758088 75.2136751859216 66.27134947758168\" preserveAspectRatio=\"xMinYMin meet\"><g transform=\"matrix(1,0,0,-1,0,14790273.752865653)\"><path fill-rule=\"evenodd\" fill=\"#66cc99\" stroke=\"#555555\" stroke-width=\"1.504273503718432\" opacity=\"0.6\" d=\"M 333062.5814232747,7395130.31986957 L 333068.5494283844,7395140.856384199 L 333061.04001800274,7395145.107487863 L 333050.5472034962,7395151.0475929845 L 333057.93940934096,7395166.236413801 L 333061.6794138102,7395167.226415892 L 333071.070226799,7395161.877811269 L 333078.37873690925,7395157.71520767 L 333087.0496489027,7395152.7767034 L 333094.4981592054,7395148.534299731 L 333102.9275708647,7395143.733295581 L 333110.209280936,7395139.585991996 L 333119.61949395307,7395134.226387362 L 333120.189495335,7395131.26638376 L 333107.7292852887,7395106.526449762 L 333095.13736799394,7395113.162555287 L 333088.0106582045,7395116.918458413 L 333078.98774581135,7395121.67356237 L 333071.82933597884,7395125.446165513 L 333062.5814232747,7395130.31986957 z\" /></g></svg>"
      ],
      "text/plain": [
       "<shapely.geometry.polygon.Polygon at 0x7fa5c006ae50>"
      ]
     },
     "metadata": {},
     "output_type": "display_data"
    }
   ],
   "source": [
    "display(polygon)"
   ]
  },
  {
   "cell_type": "markdown",
   "metadata": {},
   "source": [
    "## Convertendo coordenadas geográficas em UTM\n",
    "\n",
    "Frequentemente precisamos converter coordenadas Geográficas (Lat e Long) WGS84 em UTM SIRGAS 2000"
   ]
  },
  {
   "cell_type": "code",
   "execution_count": 7,
   "metadata": {},
   "outputs": [],
   "source": [
    "coords_wgs84 = [-23.545567989349365, -46.6351979970932]"
   ]
  },
  {
   "cell_type": "code",
   "execution_count": 8,
   "metadata": {},
   "outputs": [],
   "source": [
    "from pyproj import Proj, transform\n",
    "\n",
    "def geo2utm(coord_geo):\n",
    "    in_proj  = Proj(\"EPSG:4326\")\n",
    "    out_proj = Proj(\"EPSG:31983\")\n",
    "    y1, x1 = coord_geo\n",
    "    return transform(in_proj, out_proj, y1, x1)"
   ]
  },
  {
   "cell_type": "code",
   "execution_count": 9,
   "metadata": {},
   "outputs": [
    {
     "data": {
      "text/plain": [
       "(333087.92005983833, 7395132.272480484)"
      ]
     },
     "execution_count": 9,
     "metadata": {},
     "output_type": "execute_result"
    }
   ],
   "source": [
    "geo2utm(coords_wgs84)"
   ]
  },
  {
   "cell_type": "code",
   "execution_count": 30,
   "metadata": {},
   "outputs": [],
   "source": [
    "# encapsulando a obtenção de coordenadas de polígono do lote\n",
    "\n",
    "def get_polygon_coord(coordinate):\n",
    "    c = coordinate\n",
    "    lote = wms.getfeatureinfo(layers = ['lote_cidadao'],\n",
    "                          format = 'image/png',\n",
    "                          info_format = 'application/json',\n",
    "                          srs = 'EPSG:31983',\n",
    "                          bbox = (c[0] - 1, c[1] - 1, c[0] + 1, c[1] + 1),\n",
    "                          size = (2, 2), \n",
    "                          xy = (1, 1))\n",
    "    lote_json = json.load(lote)\n",
    "    return lote_json['features'][0]['geometry']['coordinates'][0]\n",
    "    "
   ]
  },
  {
   "cell_type": "markdown",
   "metadata": {},
   "source": [
    "## Visualizando e escolhendo um lote fiscal a partir de uma visualização de mapa"
   ]
  },
  {
   "cell_type": "code",
   "execution_count": 33,
   "metadata": {
    "scrolled": false
   },
   "outputs": [
    {
     "data": {
      "application/vnd.jupyter.widget-view+json": {
       "model_id": "ea97f1bf838e4f7dace143e27d30f044",
       "version_major": 2,
       "version_minor": 0
      },
      "text/plain": [
       "Map(center=[-23.545567989349365, -46.6351979970932], controls=(ZoomControl(options=['position', 'zoom_in_text'…"
      ]
     },
     "metadata": {},
     "output_type": "display_data"
    },
    {
     "data": {
      "image/svg+xml": [
       "<svg xmlns=\"http://www.w3.org/2000/svg\" xmlns:xlink=\"http://www.w3.org/1999/xlink\" width=\"100.0\" height=\"100.0\" viewBox=\"333047.76151182264 7395103.740758088 75.2136751859216 66.27134947758168\" preserveAspectRatio=\"xMinYMin meet\"><g transform=\"matrix(1,0,0,-1,0,14790273.752865653)\"><path fill-rule=\"evenodd\" fill=\"#66cc99\" stroke=\"#555555\" stroke-width=\"1.504273503718432\" opacity=\"0.6\" d=\"M 333062.5814232747,7395130.31986957 L 333068.5494283844,7395140.856384199 L 333061.04001800274,7395145.107487863 L 333050.5472034962,7395151.0475929845 L 333057.93940934096,7395166.236413801 L 333061.6794138102,7395167.226415892 L 333071.070226799,7395161.877811269 L 333078.37873690925,7395157.71520767 L 333087.0496489027,7395152.7767034 L 333094.4981592054,7395148.534299731 L 333102.9275708647,7395143.733295581 L 333110.209280936,7395139.585991996 L 333119.61949395307,7395134.226387362 L 333120.189495335,7395131.26638376 L 333107.7292852887,7395106.526449762 L 333095.13736799394,7395113.162555287 L 333088.0106582045,7395116.918458413 L 333078.98774581135,7395121.67356237 L 333071.82933597884,7395125.446165513 L 333062.5814232747,7395130.31986957 z\" /></g></svg>"
      ],
      "text/plain": [
       "<shapely.geometry.polygon.Polygon at 0x7fa5c0474b10>"
      ]
     },
     "metadata": {},
     "output_type": "display_data"
    },
    {
     "data": {
      "image/svg+xml": [
       "<svg xmlns=\"http://www.w3.org/2000/svg\" xmlns:xlink=\"http://www.w3.org/1999/xlink\" width=\"100.0\" height=\"100.0\" viewBox=\"333117.7007485005 7395095.5567968935 41.567849623505026 33.14653362520039\" preserveAspectRatio=\"xMinYMin meet\"><g transform=\"matrix(1,0,0,-1,0,14790224.260127412)\"><path fill-rule=\"evenodd\" fill=\"#66cc99\" stroke=\"#555555\" stroke-width=\"0.8313569924701005\" opacity=\"0.6\" d=\"M 333119.24029848655,7395112.036059303 L 333125.84950382134,7395125.1363773085 L 333126.25140418136,7395125.768078195 L 333126.77200471447,7395126.3062789915 L 333127.3900053937,7395126.728779663 L 333128.0804061945,7395127.018580184 L 333128.81490708364,7395127.163780533 L 333129.5636080231,7395127.158480695 L 333130.29600897816,7395127.002780664 L 333130.60790939536,7395126.886180586 L 333146.67313175113,7395117.136771921 L 333152.0219393494,7395113.203268168 L 333153.49044156173,7395111.564166434 L 333154.9250437508,7395109.831864573 L 333156.29054586875,7395108.044462628 L 333157.7290481379,7395105.984760355 L 333147.6495374994,7395097.096346879 L 333146.0838352932,7395098.170047879 L 333144.4751330353,7395099.232148854 L 333142.8248307272,7395100.281949807 L 333141.134328373,7395101.318550732 L 333139.4050259724,7395102.340951631 L 333137.638423529,7395103.348452501 L 333135.8358210437,7395104.340153346 L 333134.09791865444,7395105.263254117 L 333132.7557168138,7395105.955654687 L 333130.86471422925,7395106.901255453 L 333128.9434116096,7395107.828056187 L 333126.9934089582,7395108.735456891 L 333124.3516053783,7395109.913557781 L 333124.010904917,7395110.0591578875 L 333122.3410026621,7395110.77255841 L 333119.24029848655,7395112.036059303 z\" /></g></svg>"
      ],
      "text/plain": [
       "<shapely.geometry.polygon.Polygon at 0x7fa59f5620d0>"
      ]
     },
     "metadata": {},
     "output_type": "display_data"
    },
    {
     "data": {
      "image/svg+xml": [
       "<svg xmlns=\"http://www.w3.org/2000/svg\" xmlns:xlink=\"http://www.w3.org/1999/xlink\" width=\"100.0\" height=\"100.0\" viewBox=\"333105.03253393323 7395071.989260934 63.640484682284296 42.403853356838226\" preserveAspectRatio=\"xMinYMin meet\"><g transform=\"matrix(1,0,0,-1,0,14790186.382375225)\"><path fill-rule=\"evenodd\" fill=\"#66cc99\" stroke=\"#555555\" stroke-width=\"1.2728096936456859\" opacity=\"0.6\" d=\"M 333141.6488348895,7395075.303018054 L 333137.5395299508,7395074.346315922 L 333121.7806085064,7395081.768421723 L 333113.39929710096,7395085.715824809 L 333111.9503951286,7395086.398225341 L 333107.38958892145,7395088.546227019 L 333119.24029848655,7395112.036059303 L 333122.3410026621,7395110.77255841 L 333124.010904917,7395110.0591578875 L 333124.3516053783,7395109.913557781 L 333126.9934089582,7395108.735456891 L 333128.9434116096,7395107.828056187 L 333130.86471422925,7395106.901255453 L 333132.7557168138,7395105.955654687 L 333134.09791865444,7395105.263254117 L 333135.8358210437,7395104.340153346 L 333137.638423529,7395103.348452501 L 333139.4050259724,7395102.340951631 L 333141.134328373,7395101.318550732 L 333142.8248307272,7395100.281949807 L 333144.4751330353,7395099.232148854 L 333146.0838352932,7395098.170047879 L 333147.6495374994,7395097.096346879 L 333157.7290481379,7395105.984760355 L 333158.40714922245,7395104.950559204 L 333159.5782511254,7395103.029957049 L 333160.6730529418,7395101.064754818 L 333161.6898546697,7395099.0580525175 L 333162.6270563073,7395097.01295015 L 333163.48315785086,7395094.93244772 L 333164.2569592985,7395092.819945233 L 333164.9471606477,7395090.67874269 L 333165.5527618965,7395088.511940096 L 333166.0727630435,7395086.323037453 L 333166.3159636273,7395085.085335948 L 333142.13183455425,7395079.478423426 L 333141.6488348895,7395075.303018054 z\" /></g></svg>"
      ],
      "text/plain": [
       "<shapely.geometry.polygon.Polygon at 0x7fa5c0489590>"
      ]
     },
     "metadata": {},
     "output_type": "display_data"
    },
    {
     "data": {
      "image/svg+xml": [
       "<svg xmlns=\"http://www.w3.org/2000/svg\" xmlns:xlink=\"http://www.w3.org/1999/xlink\" width=\"100.0\" height=\"100.0\" viewBox=\"333035.45496793196 7395061.746242364 12.69908330484759 27.64360678009689\" preserveAspectRatio=\"xMinYMin meet\"><g transform=\"matrix(1,0,0,-1,0,14790151.136091508)\"><path fill-rule=\"evenodd\" fill=\"#66cc99\" stroke=\"#555555\" stroke-width=\"0.5528721356019378\" opacity=\"0.6\" d=\"M 333041.18000590184,7395088.366011856 L 333043.57970914734,7395087.327011086 L 333047.13021394867,7395085.78970995 L 333041.45031202096,7395062.770079652 L 333036.4788052201,7395065.273381686 L 333041.18000590184,7395088.366011856 z\" /></g></svg>"
      ],
      "text/plain": [
       "<shapely.geometry.polygon.Polygon at 0x7fa5c04898d0>"
      ]
     },
     "metadata": {},
     "output_type": "display_data"
    },
    {
     "data": {
      "image/svg+xml": [
       "<svg xmlns=\"http://www.w3.org/2000/svg\" xmlns:xlink=\"http://www.w3.org/1999/xlink\" width=\"100.0\" height=\"100.0\" viewBox=\"333039.58852572663 7395053.642893356 50.26822994602844 34.00860288832337\" preserveAspectRatio=\"xMinYMin meet\"><g transform=\"matrix(1,0,0,-1,0,14790141.294389602)\"><path fill-rule=\"evenodd\" fill=\"#66cc99\" stroke=\"#555555\" stroke-width=\"1.0053645989205688\" opacity=\"0.6\" d=\"M 333047.13021394867,7395085.78970995 L 333051.85022033076,7395083.746008439 L 333052.2894204968,7395085.456310693 L 333056.7203265623,7395083.208608862 L 333087.99496937834,7395067.343495918 L 333082.03236457234,7395055.504679651 L 333070.76694907504,7395061.551684731 L 333064.88964098913,7395064.706587382 L 333059.4615335214,7395067.62018983 L 333054.62072686123,7395070.218692013 L 333049.13261931157,7395073.164594487 L 333045.8891180947,7395060.535077836 L 333041.45031202096,7395062.770079652 L 333047.13021394867,7395085.78970995 z\" /></g></svg>"
      ],
      "text/plain": [
       "<shapely.geometry.polygon.Polygon at 0x7fa5c04e3e10>"
      ]
     },
     "metadata": {},
     "output_type": "display_data"
    },
    {
     "data": {
      "image/svg+xml": [
       "<svg xmlns=\"http://www.w3.org/2000/svg\" xmlns:xlink=\"http://www.w3.org/1999/xlink\" width=\"100.0\" height=\"100.0\" viewBox=\"333012.94123726164 7395063.965244143 30.076306260132696 35.31971365585923\" preserveAspectRatio=\"xMinYMin meet\"><g transform=\"matrix(1,0,0,-1,0,14790163.250201942)\"><path fill-rule=\"evenodd\" fill=\"#66cc99\" stroke=\"#555555\" stroke-width=\"0.7063942731171846\" opacity=\"0.6\" d=\"M 333041.18000590184,7395088.366011856 L 333036.4788052201,7395065.273381686 L 333014.24937480444,7395076.466290779 L 333024.71828307986,7395097.976820257 L 333031.027791583,7395095.373518398 L 333035.18139718124,7395093.659717174 L 333041.70940597897,7395090.966315254 L 333041.18000590184,7395088.366011856 z\" /></g></svg>"
      ],
      "text/plain": [
       "<shapely.geometry.polygon.Polygon at 0x7fa5c04c93d0>"
      ]
     },
     "metadata": {},
     "output_type": "display_data"
    },
    {
     "data": {
      "image/svg+xml": [
       "<svg xmlns=\"http://www.w3.org/2000/svg\" xmlns:xlink=\"http://www.w3.org/1999/xlink\" width=\"100.0\" height=\"100.0\" viewBox=\"333105.03253393323 7395071.989260934 63.640484682284296 42.403853356838226\" preserveAspectRatio=\"xMinYMin meet\"><g transform=\"matrix(1,0,0,-1,0,14790186.382375225)\"><path fill-rule=\"evenodd\" fill=\"#66cc99\" stroke=\"#555555\" stroke-width=\"1.2728096936456859\" opacity=\"0.6\" d=\"M 333141.6488348895,7395075.303018054 L 333137.5395299508,7395074.346315922 L 333121.7806085064,7395081.768421723 L 333113.39929710096,7395085.715824809 L 333111.9503951286,7395086.398225341 L 333107.38958892145,7395088.546227019 L 333119.24029848655,7395112.036059303 L 333122.3410026621,7395110.77255841 L 333124.010904917,7395110.0591578875 L 333124.3516053783,7395109.913557781 L 333126.9934089582,7395108.735456891 L 333128.9434116096,7395107.828056187 L 333130.86471422925,7395106.901255453 L 333132.7557168138,7395105.955654687 L 333134.09791865444,7395105.263254117 L 333135.8358210437,7395104.340153346 L 333137.638423529,7395103.348452501 L 333139.4050259724,7395102.340951631 L 333141.134328373,7395101.318550732 L 333142.8248307272,7395100.281949807 L 333144.4751330353,7395099.232148854 L 333146.0838352932,7395098.170047879 L 333147.6495374994,7395097.096346879 L 333157.7290481379,7395105.984760355 L 333158.40714922245,7395104.950559204 L 333159.5782511254,7395103.029957049 L 333160.6730529418,7395101.064754818 L 333161.6898546697,7395099.0580525175 L 333162.6270563073,7395097.01295015 L 333163.48315785086,7395094.93244772 L 333164.2569592985,7395092.819945233 L 333164.9471606477,7395090.67874269 L 333165.5527618965,7395088.511940096 L 333166.0727630435,7395086.323037453 L 333166.3159636273,7395085.085335948 L 333142.13183455425,7395079.478423426 L 333141.6488348895,7395075.303018054 z\" /></g></svg>"
      ],
      "text/plain": [
       "<shapely.geometry.polygon.Polygon at 0x7fa5c04dda90>"
      ]
     },
     "metadata": {},
     "output_type": "display_data"
    },
    {
     "data": {
      "image/svg+xml": [
       "<svg xmlns=\"http://www.w3.org/2000/svg\" xmlns:xlink=\"http://www.w3.org/1999/xlink\" width=\"105.52779430872761\" height=\"100.0\" viewBox=\"333248.411213341 7395165.270125029 105.52779430872761 59.754654618911445\" preserveAspectRatio=\"xMinYMin meet\"><g transform=\"matrix(1,0,0,-1,0,14790390.294904675)\"><path fill-rule=\"evenodd\" fill=\"#66cc99\" stroke=\"#555555\" stroke-width=\"2.0\" opacity=\"0.6\" d=\"M 333335.0106455566,7395216.815140028 L 333337.8297500947,7395212.376535067 L 333341.2897538955,7395214.776538871 L 333344.45905938407,7395208.066231126 L 333346.14976231183,7395204.486526994 L 333347.14276449056,7395200.353122007 L 333348.7645680457,7395193.602813862 L 333350.03057082347,7395188.333307506 L 333346.21106633265,7395186.991504952 L 333340.55985969026,7395185.006101176 L 333337.7997564471,7395184.036499333 L 333291.6597001849,7395176.816479836 L 333279.1096851616,7395173.616472974 L 333278.88388466346,7395174.570774127 L 333268.25967195904,7395171.796468234 L 333254.60165541375,7395169.178561855 L 333253.23965170723,7395178.036472715 L 333252.31965016725,7395179.746474665 L 333269.447367273,7395199.178503022 L 333280.2596830223,7395189.496493252 L 333293.69969823014,7395196.836505534 L 333292.1427958755,7395198.61800743 L 333300.3909052862,7395202.77531453 L 333303.32970864,7395204.256517059 L 333307.17211273056,7395207.494022006 L 333314.6237206636,7395213.772331599 L 333317.3319235466,7395216.054235086 L 333322.16772869567,7395220.128641312 L 333323.33992994373,7395221.116342821 L 333329.94974004966,7395213.076534174 L 333335.0106455566,7395216.815140028 z\" /></g></svg>"
      ],
      "text/plain": [
       "<shapely.geometry.polygon.Polygon at 0x7fa5c04744d0>"
      ]
     },
     "metadata": {},
     "output_type": "display_data"
    },
    {
     "data": {
      "image/svg+xml": [
       "<svg xmlns=\"http://www.w3.org/2000/svg\" xmlns:xlink=\"http://www.w3.org/1999/xlink\" width=\"100.0\" height=\"100.0\" viewBox=\"333270.2073115001 7395269.91106014 74.06476312503219 55.31744270399213\" preserveAspectRatio=\"xMinYMin meet\"><g transform=\"matrix(1,0,0,-1,0,14790595.139562983)\"><path fill-rule=\"evenodd\" fill=\"#66cc99\" stroke=\"#555555\" stroke-width=\"1.4812952625006437\" opacity=\"0.6\" d=\"M 333334.2619309492,7395277.440316293 L 333323.64321560867,7395286.384725178 L 333319.68750989414,7395289.712128481 L 333317.230506446,7395291.327629967 L 333311.1304981854,7395294.018231984 L 333302.1696863788,7395296.516633115 L 333300.5821853271,7395292.345927497 L 333293.96847662085,7395294.154228289 L 333291.3996732391,7395294.856628596 L 333291.27607321285,7395294.28852785 L 333290.53827305126,7395290.897323409 L 333288.2460725503,7395280.361609609 L 333286.5691721854,7395272.654199515 L 333272.9504508751,7395291.36772004 L 333276.5103542109,7395296.385627169 L 333281.9596593169,7395304.06663808 L 333291.56896722113,7395322.4853634685 L 333296.13897351024,7395320.025261397 L 333304.0615844135,7395315.760557804 L 333308.27709021396,7395313.491355892 L 333316.32970129687,7395309.156652242 L 333322.8382100668,7395306.483550337 L 333341.5289352501,7395298.806944868 L 333339.28973583586,7395283.746625376 L 333338.4697351834,7395282.076623086 L 333337.33973408677,7395280.656621041 L 333334.2619309492,7395277.440316293 z\" /></g></svg>"
      ],
      "text/plain": [
       "<shapely.geometry.polygon.Polygon at 0x7fa5c04e3710>"
      ]
     },
     "metadata": {},
     "output_type": "display_data"
    },
    {
     "data": {
      "image/svg+xml": [
       "<svg xmlns=\"http://www.w3.org/2000/svg\" xmlns:xlink=\"http://www.w3.org/1999/xlink\" width=\"165.59001346980222\" height=\"151.8977929968387\" viewBox=\"333115.33647553023 7395306.153672308 165.59001346980222 151.8977929968387\" preserveAspectRatio=\"xMinYMin meet\"><g transform=\"matrix(1,0,0,-1,0,14790764.205137612)\"><path fill-rule=\"evenodd\" fill=\"#66cc99\" stroke=\"#555555\" stroke-width=\"2.0\" opacity=\"0.6\" d=\"M 333265.67221829505,7395395.33564949 L 333260.5293113347,7395397.576051157 L 333250.72899807116,7395401.845354332 L 333236.92787939555,7395407.857558802 L 333233.5762767829,7395400.796749144 L 333232.3895758581,7395398.296745723 L 333236.8295819055,7395396.186744062 L 333234.65958021383,7395391.616737811 L 333230.5840772771,7395381.964624723 L 333226.2695741681,7395371.746710867 L 333230.14087944286,7395369.89930941 L 333249.08610525564,7395360.858402279 L 333236.5196953801,7395334.73666651 L 333229.2077896328,7395319.537445698 L 333225.7195868918,7395312.2866357695 L 333159.87079662806,7395346.119163582 L 333159.73949644866,7395346.186663639 L 333153.25948684243,7395352.716670411 L 333133.89945803024,7395372.736691289 L 333121.4694389921,7395387.96670769 L 333129.53284540155,7395404.400930231 L 333130.14424588846,7395405.646931939 L 333132.5106476493,7395410.996139219 L 333135.3143499973,7395416.184246393 L 333140.99805755273,7395414.312445315 L 333150.7386705008,7395411.104443466 L 333157.22947912954,7395408.966742234 L 333164.3637848391,7395423.335361961 L 333170.76948996575,7395436.236779675 L 333172.23949199443,7395435.426778984 L 333174.62549401727,7395439.729184948 L 333176.5920956851,7395443.275489863 L 333178.4698972779,7395446.661594557 L 333179.93959852407,7395449.311598229 L 333180.3477988704,7395450.047699249 L 333181.3852997506,7395451.918501843 L 333184.9303045249,7395450.478100825 L 333188.50820934225,7395449.0242997985 L 333206.2200331948,7395441.827694716 L 333258.0881030429,7395420.752879832 L 333263.90121087007,7395418.390878163 L 333274.7935255382,7395413.965175038 L 333272.35962355,7395409.236768526 L 333271.5317228999,7395407.51586617 L 333270.67082222167,7395405.726263719 L 333265.67221829505,7395395.33564949 z\" /></g></svg>"
      ],
      "text/plain": [
       "<shapely.geometry.polygon.Polygon at 0x7fa5c04d4690>"
      ]
     },
     "metadata": {},
     "output_type": "display_data"
    }
   ],
   "source": [
    "from ipyleaflet import Map, WMSLayer, basemaps, Marker, WidgetControl, Polygon as LeafLetPolygon\n",
    "from ipywidgets import Label\n",
    "\n",
    "center = coords_wgs84\n",
    "\n",
    "mapa_base = WMSLayer(\n",
    "    url = url_wms,\n",
    "    layers = 'MapaBase_Politico',\n",
    "    format = 'image/png',\n",
    "    transparent = True,\n",
    "    attribution = 'GeoSampa'\n",
    ")\n",
    "\n",
    "lotes = WMSLayer(\n",
    "    url = 'http://wms.geosampa.prefeitura.sp.gov.br/geoserver/geoportal/wms',\n",
    "    layers = 'lote_cidadao',\n",
    "    format = 'image/png',\n",
    "    transparent = True,\n",
    "    attribution = 'GeoSampa'\n",
    ")\n",
    "\n",
    "m = Map(center=center, \n",
    "        zoom=17,\n",
    "       crs='EPSG4326',\n",
    "       scroll_wheel_zoom = True)\n",
    "\n",
    "m.add_layer(mapa_base)\n",
    "m.add_layer(lotes)\n",
    "\n",
    "\n",
    "\n",
    "marker = Marker(location=center, draggable=True)\n",
    "m.add_layer(marker)\n",
    "\n",
    "\n",
    "def handle_click(*args, **kwargs):\n",
    "    lote_xy = geo2utm(marker.location)\n",
    "    poligono_coord = get_polygon_coord(lote_xy)\n",
    "    #TODO, converter poligo para lat, long para faze-lo aparecer no mapa\n",
    "    poligono = LeafLetPolygon(locations=poligono_coord, color=\"green\", fill_color=\"green\")\n",
    "    m.add_layer(poligono)\n",
    "    display(Polygon(poligono_coord))\n",
    "\n",
    "marker.on_click(handle_click)\n",
    "\n",
    "# label = Label()\n",
    "# display(label)\n",
    "\n",
    "# def handle_interaction(**kwargs):\n",
    "#     label.value = str(kwargs)\n",
    "\n",
    "# m.on_interaction(handle_interaction)\n",
    "\n",
    "# m.layout.width = '900px'\n",
    "# m.layout.height = '450px'\n",
    "\n",
    "m"
   ]
  },
  {
   "cell_type": "code",
   "execution_count": 34,
   "metadata": {},
   "outputs": [
    {
     "data": {
      "text/plain": [
       "[-23.543250560760498, -46.63402855396271]"
      ]
     },
     "execution_count": 34,
     "metadata": {},
     "output_type": "execute_result"
    }
   ],
   "source": [
    "marker.location"
   ]
  }
 ],
 "metadata": {
  "kernelspec": {
   "display_name": "Python 3",
   "language": "python",
   "name": "python3"
  },
  "language_info": {
   "codemirror_mode": {
    "name": "ipython",
    "version": 3
   },
   "file_extension": ".py",
   "mimetype": "text/x-python",
   "name": "python",
   "nbconvert_exporter": "python",
   "pygments_lexer": "ipython3",
   "version": "3.7.4"
  }
 },
 "nbformat": 4,
 "nbformat_minor": 4
}
