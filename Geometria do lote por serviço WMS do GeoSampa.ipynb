{
 "cells": [
  {
   "cell_type": "markdown",
   "metadata": {},
   "source": [
    "# Geometria do lote fiscal a partir do serviço WMS do GeoSampa\n",
    "\n",
    "Os lotes fiscais estão disponíveis no [GeoSampa](http://geosampa.prefeitura.sp.gov.br) mas também pode ser acessador por serviço WMS"
   ]
  },
  {
   "cell_type": "code",
   "execution_count": 1,
   "metadata": {},
   "outputs": [
    {
     "name": "stdout",
     "output_type": "stream",
     "text": [
      "lote_cidadao\n",
      "[(-47.47849807885537, -24.19376329804249, -45.773692681083574, -23.137814287792693, 'CRS:84'), (248200.0, 7324100.0, 420800.0, 7439100.0, 'EPSG:31983')]\n",
      "Lotes fiscais com informações de zoneamento. A Lei de Zoneamento estabelece normas complementares ao Plano Diretor Estratégico, institui os Planos Regionais Estratégicos das Subprefeituras, dispõe sobre o parcelamento, disciplina e ordena o Uso e Ocupação do Solo do Município de São Paulo. Os valores de zoneamento, estabelecido na Lei nº 13.885/2004, foram agregados as feições de lotes através dos números de setor, quadra e lote , tendo como base cartográfica o Mapa Digital da Cidade e as informações fiscais da Secretaria de Finanças.\n"
     ]
    }
   ],
   "source": [
    "from owslib.wms import WebMapService\n",
    "\n",
    "url_wms = 'http://wms.geosampa.prefeitura.sp.gov.br/geoserver/geoportal/wms'\n",
    "\n",
    "wms = WebMapService(url_wms, version='1.3.0')\n",
    "\n",
    "print(wms['lote_cidadao'].title)\n",
    "print(wms['lote_cidadao'].crs_list)\n",
    "print(wms['lote_cidadao'].abstract)"
   ]
  },
  {
   "cell_type": "markdown",
   "metadata": {},
   "source": [
    "## Feição do lote\n",
    "\n",
    "A partir de uma coordenada geográfica ou UTM podemos obter os dados de uma feição.\n",
    "\n",
    "Para tanto usamos um recurso de desenhar uma caixa como bounding box (bbox). No caso, como estamos trabalhando com coordenadas UTM, a unidade é o metro. Precisamos de uma caixa pequena o suficiente para caber dentro da feição que desejamos. "
   ]
  },
  {
   "cell_type": "code",
   "execution_count": 2,
   "metadata": {},
   "outputs": [],
   "source": [
    "c = (333087.92005983833, 7395132.272480484)\n",
    "\n",
    "lote = wms.getfeatureinfo(layers = ['lote_cidadao'],\n",
    "                          format = 'image/png',\n",
    "                          info_format = 'application/json',\n",
    "                          srs = 'EPSG:31983',\n",
    "                          bbox = (c[0] - 1, c[1] - 1, c[0] + 1, c[1] + 1),\n",
    "                          size = (2, 2), \n",
    "                          xy = (1, 1))"
   ]
  },
  {
   "cell_type": "markdown",
   "metadata": {},
   "source": [
    "Se tudo deu certo a linha a seguir retorna a URL para obtenção da resposta com as informações do lote caso seja encontrado"
   ]
  },
  {
   "cell_type": "code",
   "execution_count": 3,
   "metadata": {},
   "outputs": [
    {
     "data": {
      "text/plain": [
       "'http://wms.geosampa.prefeitura.sp.gov.br:80/geoserver/geoportal/ows?SERVICE=WMS&service=WMS&version=1.3.0&request=GetFeatureInfo&layers=lote_cidadao&styles=&width=2&height=2&crs=EPSG%3A31983&bbox=333086.92005983833%2C7395131.272480484%2C333088.92005983833%2C7395133.272480484&format=image%2Fpng&transparent=FALSE&bgcolor=0xFFFFFF&exceptions=XML&query_layers=lote_cidadao&i=1&j=1&info_format=application%2Fjson&feature_count=20'"
      ]
     },
     "execution_count": 3,
     "metadata": {},
     "output_type": "execute_result"
    }
   ],
   "source": [
    "lote.geturl()"
   ]
  },
  {
   "cell_type": "code",
   "execution_count": 4,
   "metadata": {},
   "outputs": [],
   "source": [
    "import json\n",
    "lote_json = json.load(lote)"
   ]
  },
  {
   "cell_type": "code",
   "execution_count": 5,
   "metadata": {},
   "outputs": [],
   "source": [
    "from shapely.geometry import Polygon\n",
    "polygon = Polygon(lote_json['features'][0]['geometry']['coordinates'][0])"
   ]
  },
  {
   "cell_type": "code",
   "execution_count": 6,
   "metadata": {},
   "outputs": [
    {
     "data": {
      "image/svg+xml": [
       "<svg xmlns=\"http://www.w3.org/2000/svg\" xmlns:xlink=\"http://www.w3.org/1999/xlink\" width=\"100.0\" height=\"100.0\" viewBox=\"333047.76151182264 7395103.740758088 75.2136751859216 66.27134947758168\" preserveAspectRatio=\"xMinYMin meet\"><g transform=\"matrix(1,0,0,-1,0,14790273.752865653)\"><path fill-rule=\"evenodd\" fill=\"#66cc99\" stroke=\"#555555\" stroke-width=\"1.504273503718432\" opacity=\"0.6\" d=\"M 333062.5814232747,7395130.31986957 L 333068.5494283844,7395140.856384199 L 333061.04001800274,7395145.107487863 L 333050.5472034962,7395151.0475929845 L 333057.93940934096,7395166.236413801 L 333061.6794138102,7395167.226415892 L 333071.070226799,7395161.877811269 L 333078.37873690925,7395157.71520767 L 333087.0496489027,7395152.7767034 L 333094.4981592054,7395148.534299731 L 333102.9275708647,7395143.733295581 L 333110.209280936,7395139.585991996 L 333119.61949395307,7395134.226387362 L 333120.189495335,7395131.26638376 L 333107.7292852887,7395106.526449762 L 333095.13736799394,7395113.162555287 L 333088.0106582045,7395116.918458413 L 333078.98774581135,7395121.67356237 L 333071.82933597884,7395125.446165513 L 333062.5814232747,7395130.31986957 z\" /></g></svg>"
      ],
      "text/plain": [
       "<shapely.geometry.polygon.Polygon at 0x7fa3b1da7d90>"
      ]
     },
     "metadata": {},
     "output_type": "display_data"
    }
   ],
   "source": [
    "display(polygon)"
   ]
  },
  {
   "cell_type": "markdown",
   "metadata": {},
   "source": [
    "## Convertendo coordenadas geográficas em UTM\n",
    "\n",
    "Frequentemente precisamos converter coordenadas Geográficas (Lat e Long) WGS84 em UTM SIRGAS 2000"
   ]
  },
  {
   "cell_type": "code",
   "execution_count": 7,
   "metadata": {},
   "outputs": [],
   "source": [
    "coords_wgs84 = [-23.545567989349365, -46.6351979970932]"
   ]
  },
  {
   "cell_type": "code",
   "execution_count": 8,
   "metadata": {},
   "outputs": [],
   "source": [
    "from pyproj import Proj, transform\n",
    "\n",
    "def geo2utm(coord_geo):\n",
    "    in_proj  = Proj(\"EPSG:4326\")\n",
    "    out_proj = Proj(\"EPSG:31983\")\n",
    "    y1, x1 = coord_geo\n",
    "    return transform(in_proj, out_proj, y1, x1)"
   ]
  },
  {
   "cell_type": "code",
   "execution_count": 9,
   "metadata": {},
   "outputs": [
    {
     "data": {
      "text/plain": [
       "(333087.92005983833, 7395132.272480484)"
      ]
     },
     "execution_count": 9,
     "metadata": {},
     "output_type": "execute_result"
    }
   ],
   "source": [
    "geo2utm(coords_wgs84)"
   ]
  },
  {
   "cell_type": "markdown",
   "metadata": {},
   "source": [
    "Para facilitar o desenho da feição no mapa, vamos encapsular os procedimentos nas funções abaixo"
   ]
  },
  {
   "cell_type": "code",
   "execution_count": 10,
   "metadata": {},
   "outputs": [],
   "source": [
    "# encapsulando a obtenção de coordenadas de polígono do lote\n",
    "\n",
    "from shapely.geometry import Point, box\n",
    "\n",
    "def get_bb_from_point(p):\n",
    "    bb = Point(p[0], p[1]).buffer(0.000001).bounds\n",
    "#     return list(box(bb[0], bb[1], bb[2], bb[3]).exterior.coords)\n",
    "    return bb\n",
    "\n",
    "def get_polygon_coord(coordinate):\n",
    "    c = coordinate\n",
    "    s = 0.25\n",
    "    lote = wms.getfeatureinfo(layers = ['lote_cidadao'],\n",
    "                          format = 'image/png',\n",
    "                          info_format = 'application/json',\n",
    "                          srs = 'EPSG:31983',\n",
    "                          bbox = (c[0] - s, c[1] - s, c[0] + s, c[1] + s),\n",
    "                          size = (2, 2), \n",
    "                          xy = (1, 1))\n",
    "    lote_json = json.load(lote)\n",
    "#     print(lote_json)\n",
    "    return lote_json['features'][0]['geometry']['coordinates'][0]\n",
    "    "
   ]
  },
  {
   "cell_type": "markdown",
   "metadata": {},
   "source": [
    "## Visualizando e escolhendo um lote fiscal a partir de uma visualização de mapa\n",
    "\n",
    "Agora vamos visualizar a camada de 'lotes' sobre o 'mapa base' e disponibilizar um marcador que ao ser movido sobre o lote desejado, devolve a feição do lote quando clicado."
   ]
  },
  {
   "cell_type": "code",
   "execution_count": 11,
   "metadata": {
    "scrolled": false
   },
   "outputs": [
    {
     "data": {
      "application/vnd.jupyter.widget-view+json": {
       "model_id": "29859755272f4ae09770a2d12222f57b",
       "version_major": 2,
       "version_minor": 0
      },
      "text/plain": [
       "Label(value='')"
      ]
     },
     "metadata": {},
     "output_type": "display_data"
    },
    {
     "data": {
      "application/vnd.jupyter.widget-view+json": {
       "model_id": "0d2f5183dbe3460e94505f324e7384ea",
       "version_major": 2,
       "version_minor": 0
      },
      "text/plain": [
       "Map(center=[-23.545567989349365, -46.6351979970932], controls=(ZoomControl(options=['position', 'zoom_in_text'…"
      ]
     },
     "metadata": {},
     "output_type": "display_data"
    },
    {
     "data": {
      "image/svg+xml": [
       "<svg xmlns=\"http://www.w3.org/2000/svg\" xmlns:xlink=\"http://www.w3.org/1999/xlink\" width=\"112.00758248375496\" height=\"123.62441131472588\" viewBox=\"332677.2295632271 7395095.217472533 112.00758248375496 123.62441131472588\" preserveAspectRatio=\"xMinYMin meet\"><g transform=\"matrix(1,0,0,-1,0,14790314.05935638)\"><path fill-rule=\"evenodd\" fill=\"#66cc99\" stroke=\"#555555\" stroke-width=\"2.0\" opacity=\"0.6\" d=\"M 332737.37289628206,7395214.263201947 L 332740.1847998844,7395213.939002174 L 332778.926554664,7395186.65947654 L 332783.2525609962,7395182.6606724765 L 332784.6584638103,7395178.013466936 L 332783.6625632961,7395174.76866262 L 332740.51312283764,7395114.313876655 L 332723.1666043593,7395099.796154433 L 332712.82528978307,7395106.882161028 L 332684.60344933055,7395129.181782756 L 332681.8082451277,7395132.2543859985 L 332682.044144645,7395135.689290381 L 332701.3391626008,7395163.315529572 L 332733.263291762,7395211.4531974755 L 332737.37289628206,7395214.263201947 z\" /></g></svg>"
      ],
      "text/plain": [
       "<shapely.geometry.polygon.Polygon at 0x7fa3b1be9ad0>"
      ]
     },
     "metadata": {},
     "output_type": "display_data"
    },
    {
     "data": {
      "image/svg+xml": [
       "<svg xmlns=\"http://www.w3.org/2000/svg\" xmlns:xlink=\"http://www.w3.org/1999/xlink\" width=\"100.0\" height=\"100.0\" viewBox=\"332640.28491739475 7395056.431807331 58.16844589536777 56.54883329290897\" preserveAspectRatio=\"xMinYMin meet\"><g transform=\"matrix(1,0,0,-1,0,14790169.412447955)\"><path fill-rule=\"evenodd\" fill=\"#66cc99\" stroke=\"#555555\" stroke-width=\"1.1633689179073554\" opacity=\"0.6\" d=\"M 332672.8989480406,7395070.006205516 L 332661.8440321729,7395078.834914144 L 332660.22422984755,7395080.128615409 L 332652.84511925664,7395086.0217211675 L 332645.1889082673,7395092.136227145 L 332643.92890643363,7395093.256228272 L 332642.43930427975,7395094.514329519 L 332653.4889145512,7395110.376252014 L 332658.60892087314,7395110.826253738 L 332695.85897474416,7395079.286222406 L 332696.2989764051,7395074.3862163285 L 332688.50896949554,7395061.736198621 L 332686.5889678002,7395058.586194216 L 332672.8989480406,7395070.006205516 z\" /></g></svg>"
      ],
      "text/plain": [
       "<shapely.geometry.polygon.Polygon at 0x7fa39f53e3d0>"
      ]
     },
     "metadata": {},
     "output_type": "display_data"
    },
    {
     "data": {
      "image/svg+xml": [
       "<svg xmlns=\"http://www.w3.org/2000/svg\" xmlns:xlink=\"http://www.w3.org/1999/xlink\" width=\"100.0\" height=\"115.9725944250822\" viewBox=\"332686.5937012788 7394944.738885782 95.83067440288141 115.9725944250822\" preserveAspectRatio=\"xMinYMin meet\"><g transform=\"matrix(1,0,0,-1,0,14790005.450365989)\"><path fill-rule=\"evenodd\" fill=\"#66cc99\" stroke=\"#555555\" stroke-width=\"2.0\" opacity=\"0.6\" d=\"M 332718.01902447117,7394982.386105277 L 332725.36143124005,7394993.174820535 L 332723.3186283548,7394994.605621876 L 332719.9307235676,7394996.978524101 L 332713.4796144518,7395001.496928337 L 332708.63950761314,7395004.886931515 L 332701.82939799235,7395009.656735988 L 332698.4300931897,7395012.037638221 L 332691.57898350887,7395016.836142719 L 332690.8889825538,7395017.226143055 L 332699.72899025417,7395032.206163936 L 332713.15900187206,7395055.316196103 L 332714.2590034123,7395054.606195457 L 332718.74900885014,7395055.466197556 L 332719.53900962684,7395056.416198932 L 332724.05901616794,7395052.5661951 L 332734.899031852,7395043.346185928 L 332762.6990720796,7395019.686162391 L 332774.1090885842,7395009.996152756 L 332778.1290944067,7395006.546149315 L 332737.6090557823,7394952.6160721835 L 332734.90625320195,7394949.034167057 L 332718.9990307677,7394959.996077277 L 332716.589127357,7394961.7161789015 L 332709.4293172191,7394966.826483723 L 332707.5923146182,7394968.13768496 L 332710.8390176929,7394972.546091251 L 332713.55962026207,7394976.2745965645 L 332718.01902447117,7394982.386105277 z\" /></g></svg>"
      ],
      "text/plain": [
       "<shapely.geometry.polygon.Polygon at 0x7fa39f550190>"
      ]
     },
     "metadata": {},
     "output_type": "display_data"
    },
    {
     "data": {
      "image/svg+xml": [
       "<svg xmlns=\"http://www.w3.org/2000/svg\" xmlns:xlink=\"http://www.w3.org/1999/xlink\" width=\"133.2761858967133\" height=\"134.41599989309907\" viewBox=\"332734.8910584138 7395036.8972269595 133.2761858967133 134.41599989309907\" preserveAspectRatio=\"xMinYMin meet\"><g transform=\"matrix(1,0,0,-1,0,14790208.210453812)\"><path fill-rule=\"evenodd\" fill=\"#66cc99\" stroke=\"#555555\" stroke-width=\"2.0\" opacity=\"0.6\" d=\"M 332803.57129018183,7395166.334856486 L 332810.08239890216,7395163.894854883 L 332863.1888739441,7395126.6846199725 L 332796.86800893437,7395046.246103592 L 332793.52630573197,7395041.875597326 L 332739.86942878016,7395084.482938906 L 332741.29012912966,7395090.813747208 L 332751.0568387136,7395102.607164282 L 332779.15456529695,7395140.918018927 L 332793.60107882245,7395161.251447827 L 332797.6705831004,7395164.911453358 L 332803.57129018183,7395166.334856486 z\" /></g></svg>"
      ],
      "text/plain": [
       "<shapely.geometry.polygon.Polygon at 0x7fa39f53ef10>"
      ]
     },
     "metadata": {},
     "output_type": "display_data"
    }
   ],
   "source": [
    "from ipyleaflet import Map, WMSLayer, basemaps, Marker, WidgetControl, Polygon as LeafLetPolygon\n",
    "from ipywidgets import Label\n",
    "\n",
    "center = coords_wgs84\n",
    "\n",
    "mapa_base = WMSLayer(\n",
    "    url = url_wms,\n",
    "    layers = 'MapaBase_Politico',\n",
    "    format = 'image/png',\n",
    "    transparent = True,\n",
    "    attribution = 'GeoSampa'\n",
    ")\n",
    "\n",
    "lotes = WMSLayer(\n",
    "    url = 'http://wms.geosampa.prefeitura.sp.gov.br/geoserver/geoportal/wms',\n",
    "    layers = 'lote_cidadao',\n",
    "    format = 'image/png',\n",
    "    transparent = True,\n",
    "    attribution = 'GeoSampa'\n",
    ")\n",
    "\n",
    "m = Map(center=center, \n",
    "        zoom=17,\n",
    "       scroll_wheel_zoom = True)\n",
    "\n",
    "m.add_layer(mapa_base)\n",
    "m.add_layer(lotes)\n",
    "\n",
    "marker = Marker(location=center, draggable=True)\n",
    "m.add_layer(marker)\n",
    "\n",
    "from pyproj import Transformer\n",
    "transformer = Transformer.from_crs(31983, 4326)\n",
    "\n",
    "def handle_click(*args, **kwargs):\n",
    "    lote_xy = geo2utm(marker.location)\n",
    "    poligono_coord = get_polygon_coord(lote_xy)\n",
    "#     print(list(transformer.itransform(poligono_coord)))\n",
    "#     print(poligono_coord)\n",
    "    poligono = LeafLetPolygon(locations=list(transformer.itransform(poligono_coord)), \n",
    "                              color=\"green\", \n",
    "                              fill_color=\"green\")\n",
    "    m.add_layer(poligono)\n",
    "    display(Polygon(poligono_coord))\n",
    "\n",
    "marker.on_click(handle_click)\n",
    "\n",
    "label = Label()\n",
    "display(label)\n",
    "\n",
    "def handle_interaction(**kwargs):\n",
    "    label.value = str(kwargs)\n",
    "\n",
    "m.on_interaction(handle_interaction)\n",
    "\n",
    "# m.layout.width = '900px'\n",
    "# m.layout.height = '450px'\n",
    "\n",
    "m"
   ]
  },
  {
   "cell_type": "code",
   "execution_count": 12,
   "metadata": {},
   "outputs": [
    {
     "data": {
      "text/plain": [
       "[-23.545674565936647, -46.638003587722785]"
      ]
     },
     "execution_count": 12,
     "metadata": {},
     "output_type": "execute_result"
    }
   ],
   "source": [
    "marker.location"
   ]
  }
 ],
 "metadata": {
  "kernelspec": {
   "display_name": "Python 3",
   "language": "python",
   "name": "python3"
  },
  "language_info": {
   "codemirror_mode": {
    "name": "ipython",
    "version": 3
   },
   "file_extension": ".py",
   "mimetype": "text/x-python",
   "name": "python",
   "nbconvert_exporter": "python",
   "pygments_lexer": "ipython3",
   "version": "3.7.4"
  }
 },
 "nbformat": 4,
 "nbformat_minor": 4
}
