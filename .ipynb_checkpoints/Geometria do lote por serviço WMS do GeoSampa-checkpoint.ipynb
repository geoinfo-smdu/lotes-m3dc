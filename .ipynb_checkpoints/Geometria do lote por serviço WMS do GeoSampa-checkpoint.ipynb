{
 "cells": [
  {
   "cell_type": "markdown",
   "metadata": {},
   "source": [
    "# Geometria do lote fiscal a partir do serviço WMS do GeoSampa\n",
    "\n",
    "Os lotes fiscais estão disponíveis no [GeoSampa](http://geosampa.prefeitura.sp.gov.br) mas também pode ser acessador por serviço WMS"
   ]
  },
  {
   "cell_type": "code",
   "execution_count": 45,
   "metadata": {},
   "outputs": [
    {
     "name": "stdout",
     "output_type": "stream",
     "text": [
      "lote_cidadao\n",
      "Lotes fiscais com informações de zoneamento. A Lei de Zoneamento estabelece normas complementares ao Plano Diretor Estratégico, institui os Planos Regionais Estratégicos das Subprefeituras, dispõe sobre o parcelamento, disciplina e ordena o Uso e Ocupação do Solo do Município de São Paulo. Os valores de zoneamento, estabelecido na Lei nº 13.885/2004, foram agregados as feições de lotes através dos números de setor, quadra e lote , tendo como base cartográfica o Mapa Digital da Cidade e as informações fiscais da Secretaria de Finanças.\n"
     ]
    }
   ],
   "source": [
    "from owslib.wms import WebMapService\n",
    "\n",
    "url_wms = 'http://wms.geosampa.prefeitura.sp.gov.br/geoserver/geoportal/wms'\n",
    "\n",
    "wms = WebMapService(url_wms, version='1.3.0')\n",
    "\n",
    "print(wms['lote_cidadao'].title)\n",
    "# print(wms['lote_cidadao'].crs_list)\n",
    "print(wms['lote_cidadao'].abstract)"
   ]
  },
  {
   "cell_type": "markdown",
   "metadata": {},
   "source": [
    "## Feição do lote\n",
    "\n",
    "A partir de uma coordenada geográfica ou UTM podemos obter os dados de uma feição"
   ]
  },
  {
   "cell_type": "code",
   "execution_count": 36,
   "metadata": {},
   "outputs": [],
   "source": [
    "c = (333087.92005983833, 7395132.272480484)\n",
    "\n",
    "lote = wms.getfeatureinfo(layers = ['lote_cidadao'],\n",
    "                          format = 'image/png',\n",
    "                          info_format = 'application/json',\n",
    "                          srs = 'EPSG:31983',\n",
    "                          bbox = (c[0] - 1, c[1] - 1, c[0] + 1, c[1] + 1),\n",
    "                          size = (2, 2), \n",
    "                          xy = (1, 1))"
   ]
  },
  {
   "cell_type": "code",
   "execution_count": 40,
   "metadata": {},
   "outputs": [
    {
     "data": {
      "text/plain": [
       "'http://wms.geosampa.prefeitura.sp.gov.br:80/geoserver/geoportal/ows?SERVICE=WMS&service=WMS&version=1.3.0&request=GetFeatureInfo&layers=lote_cidadao&styles=&width=2&height=2&crs=EPSG%3A31983&bbox=333086.92005983833%2C7395131.272480484%2C333088.92005983833%2C7395133.272480484&format=image%2Fpng&transparent=FALSE&bgcolor=0xFFFFFF&exceptions=XML&query_layers=lote_cidadao&i=1&j=1&info_format=application%2Fjson&feature_count=20'"
      ]
     },
     "execution_count": 40,
     "metadata": {},
     "output_type": "execute_result"
    }
   ],
   "source": [
    "lote.geturl()"
   ]
  },
  {
   "cell_type": "code",
   "execution_count": 42,
   "metadata": {},
   "outputs": [],
   "source": [
    "import json\n",
    "lote_json = json.load(lote)"
   ]
  },
  {
   "cell_type": "code",
   "execution_count": 43,
   "metadata": {},
   "outputs": [],
   "source": [
    "from shapely.geometry import Polygon\n",
    "polygon = Polygon(lote_json['features'][0]['geometry']['coordinates'][0])"
   ]
  },
  {
   "cell_type": "code",
   "execution_count": 44,
   "metadata": {},
   "outputs": [
    {
     "data": {
      "image/svg+xml": [
       "<svg xmlns=\"http://www.w3.org/2000/svg\" xmlns:xlink=\"http://www.w3.org/1999/xlink\" width=\"100.0\" height=\"100.0\" viewBox=\"333047.76151182264 7395103.740758088 75.2136751859216 66.27134947758168\" preserveAspectRatio=\"xMinYMin meet\"><g transform=\"matrix(1,0,0,-1,0,14790273.752865653)\"><path fill-rule=\"evenodd\" fill=\"#66cc99\" stroke=\"#555555\" stroke-width=\"1.504273503718432\" opacity=\"0.6\" d=\"M 333062.5814232747,7395130.31986957 L 333068.5494283844,7395140.856384199 L 333061.04001800274,7395145.107487863 L 333050.5472034962,7395151.0475929845 L 333057.93940934096,7395166.236413801 L 333061.6794138102,7395167.226415892 L 333071.070226799,7395161.877811269 L 333078.37873690925,7395157.71520767 L 333087.0496489027,7395152.7767034 L 333094.4981592054,7395148.534299731 L 333102.9275708647,7395143.733295581 L 333110.209280936,7395139.585991996 L 333119.61949395307,7395134.226387362 L 333120.189495335,7395131.26638376 L 333107.7292852887,7395106.526449762 L 333095.13736799394,7395113.162555287 L 333088.0106582045,7395116.918458413 L 333078.98774581135,7395121.67356237 L 333071.82933597884,7395125.446165513 L 333062.5814232747,7395130.31986957 z\" /></g></svg>"
      ],
      "text/plain": [
       "<shapely.geometry.polygon.Polygon at 0x7f81f090f950>"
      ]
     },
     "metadata": {},
     "output_type": "display_data"
    }
   ],
   "source": [
    "display(polygon)"
   ]
  },
  {
   "cell_type": "markdown",
   "metadata": {},
   "source": [
    "## Convertendo coordenadas geográficas em UTM\n",
    "\n",
    "Frequentemente precisamos converter coordenadas Geográficas (Lat e Long) WGS84 em UTM SIRGAS 2000"
   ]
  },
  {
   "cell_type": "code",
   "execution_count": 26,
   "metadata": {},
   "outputs": [],
   "source": [
    "coords_wgs84 = [-23.545567989349365, -46.6351979970932]"
   ]
  },
  {
   "cell_type": "code",
   "execution_count": 33,
   "metadata": {},
   "outputs": [],
   "source": [
    "from pyproj import Proj, transform\n",
    "\n",
    "def geo2utm(coord_geo):\n",
    "    in_proj  = Proj(\"EPSG:4326\")\n",
    "    out_proj = Proj(\"EPSG:31983\")\n",
    "    y1, x1 = coord_geo\n",
    "    return transform(in_proj, out_proj, y1, x1)"
   ]
  },
  {
   "cell_type": "code",
   "execution_count": 34,
   "metadata": {},
   "outputs": [
    {
     "data": {
      "text/plain": [
       "(333087.92005983833, 7395132.272480484)"
      ]
     },
     "execution_count": 34,
     "metadata": {},
     "output_type": "execute_result"
    }
   ],
   "source": [
    "geo2utm(coords_wgs84)"
   ]
  },
  {
   "cell_type": "markdown",
   "metadata": {},
   "source": [
    "## Visualizando e escolhendo um lote fiscal a partir de uma visualização de mapa"
   ]
  },
  {
   "cell_type": "code",
   "execution_count": 46,
   "metadata": {
    "scrolled": false
   },
   "outputs": [
    {
     "data": {
      "application/vnd.jupyter.widget-view+json": {
       "model_id": "dfb68619a2e94906bb34472eb2e8a08f",
       "version_major": 2,
       "version_minor": 0
      },
      "text/plain": [
       "Map(center=[-23.545567989349365, -46.6351979970932], controls=(ZoomControl(options=['position', 'zoom_in_text'…"
      ]
     },
     "metadata": {},
     "output_type": "display_data"
    },
    {
     "name": "stdout",
     "output_type": "stream",
     "text": [
      "{'event': 'interaction', 'type': 'click', 'coordinates': [-23.545337319374084, -46.63588464260101]}\n"
     ]
    }
   ],
   "source": [
    "from ipyleaflet import Map, WMSLayer, basemaps, Marker, WidgetControl\n",
    "from ipywidgets import Label\n",
    "\n",
    "center = coords_wgs84\n",
    "\n",
    "mapa_base = WMSLayer(\n",
    "    url = url_wms,\n",
    "    layers = 'MapaBase_Politico',\n",
    "    format = 'image/png',\n",
    "    transparent = True,\n",
    "    attribution = 'GeoSampa'\n",
    ")\n",
    "\n",
    "lotes = WMSLayer(\n",
    "    url = 'http://wms.geosampa.prefeitura.sp.gov.br/geoserver/geoportal/wms',\n",
    "    layers = 'lote_cidadao',\n",
    "    format = 'image/png',\n",
    "    transparent = True,\n",
    "    attribution = 'GeoSampa'\n",
    ")\n",
    "\n",
    "m = Map(center=center, \n",
    "        zoom=17,\n",
    "       crs='EPSG4326',\n",
    "       scroll_wheel_zoom = True)\n",
    "\n",
    "m.add_layer(mapa_base)\n",
    "m.add_layer(lotes)\n",
    "\n",
    "\n",
    "\n",
    "marker = Marker(location=center, draggable=True)\n",
    "m.add_layer(marker)\n",
    "\n",
    "\n",
    "def handle_move(*args, **kwargs):\n",
    "    center = marker.location\n",
    "    print(kwargs)\n",
    "\n",
    "marker.on_click(handle_move)\n",
    "\n",
    "# label = Label()\n",
    "# display(label)\n",
    "\n",
    "# def handle_interaction(**kwargs):\n",
    "#     label.value = str(kwargs)\n",
    "\n",
    "# m.on_interaction(handle_interaction)\n",
    "\n",
    "# m.layout.width = '900px'\n",
    "# m.layout.height = '450px'\n",
    "\n",
    "m"
   ]
  },
  {
   "cell_type": "code",
   "execution_count": 48,
   "metadata": {},
   "outputs": [
    {
     "data": {
      "text/plain": [
       "[-23.568082451820374, -46.64368987083435]"
      ]
     },
     "execution_count": 48,
     "metadata": {},
     "output_type": "execute_result"
    }
   ],
   "source": [
    "marker.location"
   ]
  }
 ],
 "metadata": {
  "kernelspec": {
   "display_name": "Python 3",
   "language": "python",
   "name": "python3"
  },
  "language_info": {
   "codemirror_mode": {
    "name": "ipython",
    "version": 3
   },
   "file_extension": ".py",
   "mimetype": "text/x-python",
   "name": "python",
   "nbconvert_exporter": "python",
   "pygments_lexer": "ipython3",
   "version": "3.7.4"
  }
 },
 "nbformat": 4,
 "nbformat_minor": 4
}
