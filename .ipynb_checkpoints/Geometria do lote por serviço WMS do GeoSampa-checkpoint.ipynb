{
 "cells": [
  {
   "cell_type": "markdown",
   "metadata": {},
   "source": [
    "# Geometria do lote fiscal a partir do serviço WMS do GeoSampa\n",
    "\n",
    "Os lotes fiscais estão disponíveis no [GeoSampa](http://geosampa.prefeitura.sp.gov.br) mas também pode ser acessador por serviço WMS"
   ]
  },
  {
   "cell_type": "code",
   "execution_count": 1,
   "metadata": {},
   "outputs": [
    {
     "name": "stdout",
     "output_type": "stream",
     "text": [
      "lote_cidadao\n",
      "[(-47.47849807885537, -24.19376329804249, -45.773692681083574, -23.137814287792693, 'CRS:84'), (248200.0, 7324100.0, 420800.0, 7439100.0, 'EPSG:31983')]\n",
      "Lotes fiscais com informações de zoneamento. A Lei de Zoneamento estabelece normas complementares ao Plano Diretor Estratégico, institui os Planos Regionais Estratégicos das Subprefeituras, dispõe sobre o parcelamento, disciplina e ordena o Uso e Ocupação do Solo do Município de São Paulo. Os valores de zoneamento, estabelecido na Lei nº 13.885/2004, foram agregados as feições de lotes através dos números de setor, quadra e lote , tendo como base cartográfica o Mapa Digital da Cidade e as informações fiscais da Secretaria de Finanças.\n"
     ]
    }
   ],
   "source": [
    "from owslib.wms import WebMapService\n",
    "\n",
    "url_wms = 'http://wms.geosampa.prefeitura.sp.gov.br/geoserver/geoportal/wms'\n",
    "\n",
    "wms = WebMapService(url_wms, version='1.3.0')\n",
    "\n",
    "print(wms['lote_cidadao'].title)\n",
    "print(wms['lote_cidadao'].crs_list)\n",
    "print(wms['lote_cidadao'].abstract)"
   ]
  },
  {
   "cell_type": "markdown",
   "metadata": {},
   "source": [
    "## Feição do lote\n",
    "\n",
    "A partir de uma coordenada geográfica ou UTM podemos obter os dados de uma feição.\n",
    "\n",
    "Para tanto usamos um recurso de desenhar uma caixa como bounding box (bbox). No caso, como estamos trabalhando com coordenadas UTM, a unidade é o metro. Precisamos de uma caixa pequena o suficiente para caber dentro da feição que desejamos. "
   ]
  },
  {
   "cell_type": "code",
   "execution_count": 2,
   "metadata": {},
   "outputs": [],
   "source": [
    "c = (333087.92005983833, 7395132.272480484)\n",
    "\n",
    "lote = wms.getfeatureinfo(layers = ['lote_cidadao'],\n",
    "                          format = 'image/png',\n",
    "                          info_format = 'application/json',\n",
    "                          srs = 'EPSG:31983',\n",
    "                          bbox = (c[0] - 1, c[1] - 1, c[0] + 1, c[1] + 1),\n",
    "                          size = (2, 2), \n",
    "                          xy = (1, 1))"
   ]
  },
  {
   "cell_type": "markdown",
   "metadata": {},
   "source": [
    "Se tudo deu certo a linha a seguir retorna a URL para obtenção da resposta com as informações do lote caso seja encontrado"
   ]
  },
  {
   "cell_type": "code",
   "execution_count": 3,
   "metadata": {},
   "outputs": [
    {
     "data": {
      "text/plain": [
       "'http://wms.geosampa.prefeitura.sp.gov.br:80/geoserver/geoportal/ows?SERVICE=WMS&service=WMS&version=1.3.0&request=GetFeatureInfo&layers=lote_cidadao&styles=&width=2&height=2&crs=EPSG%3A31983&bbox=333086.92005983833%2C7395131.272480484%2C333088.92005983833%2C7395133.272480484&format=image%2Fpng&transparent=FALSE&bgcolor=0xFFFFFF&exceptions=XML&query_layers=lote_cidadao&i=1&j=1&info_format=application%2Fjson&feature_count=20'"
      ]
     },
     "execution_count": 3,
     "metadata": {},
     "output_type": "execute_result"
    }
   ],
   "source": [
    "lote.geturl()"
   ]
  },
  {
   "cell_type": "code",
   "execution_count": 4,
   "metadata": {},
   "outputs": [],
   "source": [
    "import json\n",
    "lote_json = json.load(lote)"
   ]
  },
  {
   "cell_type": "code",
   "execution_count": 5,
   "metadata": {},
   "outputs": [],
   "source": [
    "from shapely.geometry import Polygon\n",
    "polygon = Polygon(lote_json['features'][0]['geometry']['coordinates'][0])"
   ]
  },
  {
   "cell_type": "code",
   "execution_count": 6,
   "metadata": {},
   "outputs": [
    {
     "data": {
      "image/svg+xml": [
       "<svg xmlns=\"http://www.w3.org/2000/svg\" xmlns:xlink=\"http://www.w3.org/1999/xlink\" width=\"100.0\" height=\"100.0\" viewBox=\"333047.76151182264 7395103.740758088 75.2136751859216 66.27134947758168\" preserveAspectRatio=\"xMinYMin meet\"><g transform=\"matrix(1,0,0,-1,0,14790273.752865653)\"><path fill-rule=\"evenodd\" fill=\"#66cc99\" stroke=\"#555555\" stroke-width=\"1.504273503718432\" opacity=\"0.6\" d=\"M 333062.5814232747,7395130.31986957 L 333068.5494283844,7395140.856384199 L 333061.04001800274,7395145.107487863 L 333050.5472034962,7395151.0475929845 L 333057.93940934096,7395166.236413801 L 333061.6794138102,7395167.226415892 L 333071.070226799,7395161.877811269 L 333078.37873690925,7395157.71520767 L 333087.0496489027,7395152.7767034 L 333094.4981592054,7395148.534299731 L 333102.9275708647,7395143.733295581 L 333110.209280936,7395139.585991996 L 333119.61949395307,7395134.226387362 L 333120.189495335,7395131.26638376 L 333107.7292852887,7395106.526449762 L 333095.13736799394,7395113.162555287 L 333088.0106582045,7395116.918458413 L 333078.98774581135,7395121.67356237 L 333071.82933597884,7395125.446165513 L 333062.5814232747,7395130.31986957 z\" /></g></svg>"
      ],
      "text/plain": [
       "<shapely.geometry.polygon.Polygon at 0x7f1950c357d0>"
      ]
     },
     "metadata": {},
     "output_type": "display_data"
    }
   ],
   "source": [
    "display(polygon)"
   ]
  },
  {
   "cell_type": "markdown",
   "metadata": {},
   "source": [
    "## Convertendo coordenadas geográficas em UTM\n",
    "\n",
    "Frequentemente precisamos converter coordenadas Geográficas (Lat e Long) WGS84 em UTM SIRGAS 2000"
   ]
  },
  {
   "cell_type": "code",
   "execution_count": 7,
   "metadata": {},
   "outputs": [],
   "source": [
    "coords_wgs84 = [-23.545567989349365, -46.6351979970932]"
   ]
  },
  {
   "cell_type": "code",
   "execution_count": 8,
   "metadata": {},
   "outputs": [],
   "source": [
    "from pyproj import Proj, transform\n",
    "\n",
    "def geo2utm(coord_geo):\n",
    "    in_proj  = Proj(\"EPSG:4326\")\n",
    "    out_proj = Proj(\"EPSG:31983\")\n",
    "    y1, x1 = coord_geo\n",
    "    return transform(in_proj, out_proj, y1, x1)"
   ]
  },
  {
   "cell_type": "code",
   "execution_count": 9,
   "metadata": {},
   "outputs": [
    {
     "data": {
      "text/plain": [
       "(333087.92005983833, 7395132.272480484)"
      ]
     },
     "execution_count": 9,
     "metadata": {},
     "output_type": "execute_result"
    }
   ],
   "source": [
    "geo2utm(coords_wgs84)"
   ]
  },
  {
   "cell_type": "markdown",
   "metadata": {},
   "source": [
    "Para facilitar o desenho da feição no mapa, vamos encapsular os procedimentos nas funções abaixo"
   ]
  },
  {
   "cell_type": "code",
   "execution_count": 10,
   "metadata": {},
   "outputs": [],
   "source": [
    "# encapsulando a obtenção de coordenadas de polígono do lote\n",
    "\n",
    "from shapely.geometry import Point, box\n",
    "\n",
    "def get_bb_from_point(p):\n",
    "    bb = Point(p[0], p[1]).buffer(0.000001).bounds\n",
    "#     return list(box(bb[0], bb[1], bb[2], bb[3]).exterior.coords)\n",
    "    return bb\n",
    "\n",
    "def get_polygon_coord(coordinate):\n",
    "    c = coordinate\n",
    "    s = 0.25\n",
    "    lote = wms.getfeatureinfo(layers = ['lote_cidadao'],\n",
    "                          format = 'image/png',\n",
    "                          info_format = 'application/json',\n",
    "                          srs = 'EPSG:31983',\n",
    "                          bbox = (c[0] - s, c[1] - s, c[0] + s, c[1] + s),\n",
    "                          size = (2, 2), \n",
    "                          xy = (1, 1))\n",
    "    lote_json = json.load(lote)\n",
    "#     print(lote_json)\n",
    "    return lote_json['features'][0]['geometry']['coordinates'][0]\n",
    "    "
   ]
  },
  {
   "cell_type": "markdown",
   "metadata": {},
   "source": [
    "## Visualizando e escolhendo um lote fiscal a partir de uma visualização de mapa\n",
    "\n",
    "Agora vamos visualizar a camada de 'lotes' sobre o 'mapa base' e disponibilizar um marcador que ao ser movido sobre o lote desejado, devolve a feição do lote quando clicado."
   ]
  },
  {
   "cell_type": "code",
   "execution_count": 23,
   "metadata": {
    "scrolled": false
   },
   "outputs": [
    {
     "data": {
      "application/vnd.jupyter.widget-view+json": {
       "model_id": "b593162ecf9b4d1280a50bdac6eebc1b",
       "version_major": 2,
       "version_minor": 0
      },
      "text/plain": [
       "Label(value='')"
      ]
     },
     "metadata": {},
     "output_type": "display_data"
    },
    {
     "data": {
      "application/vnd.jupyter.widget-view+json": {
       "model_id": "9801cbe4f41f44f3af16df7eba8a9203",
       "version_major": 2,
       "version_minor": 0
      },
      "text/plain": [
       "Map(center=[-23.545567989349365, -46.6351979970932], controls=(ZoomControl(options=['position', 'zoom_in_text'…"
      ]
     },
     "metadata": {},
     "output_type": "display_data"
    },
    {
     "data": {
      "image/svg+xml": [
       "<svg xmlns=\"http://www.w3.org/2000/svg\" xmlns:xlink=\"http://www.w3.org/1999/xlink\" width=\"100.0\" height=\"100.0\" viewBox=\"333147.62419779564 7395116.187550953 68.44044114119606 62.50373579375446\" preserveAspectRatio=\"xMinYMin meet\"><g transform=\"matrix(1,0,0,-1,0,14790294.8788377)\"><path fill-rule=\"evenodd\" fill=\"#66cc99\" stroke=\"#555555\" stroke-width=\"1.3688088228239212\" opacity=\"0.6\" d=\"M 333150.15902894904,7395148.92631278 L 333172.8395559982,7395155.156425748 L 333172.6889552036,7395157.836329092 L 333172.40475370595,7395162.895735407 L 333172.2603529447,7395165.466338616 L 333171.7395503903,7395173.8901491165 L 333183.7395667302,7395168.196444645 L 333187.78957001574,7395176.156455593 L 333191.83067594504,7395172.347651701 L 333208.1293998596,7395156.986136012 L 333213.52980778343,7395151.896230812 L 333182.98067694146,7395118.722382106 L 333181.6795750053,7395120.076383519 L 333150.15902894904,7395148.92631278 z\" /></g></svg>"
      ],
      "text/plain": [
       "<shapely.geometry.polygon.Polygon at 0x7f1926b630d0>"
      ]
     },
     "metadata": {},
     "output_type": "display_data"
    }
   ],
   "source": [
    "from ipyleaflet import Map, WMSLayer, basemaps, Marker, WidgetControl, Polygon as LeafLetPolygon\n",
    "from ipywidgets import Label\n",
    "\n",
    "lote = ''\n",
    "center = coords_wgs84\n",
    "url_wms = 'http://wms.geosampa.prefeitura.sp.gov.br/geoserver/geoportal/wms'\n",
    "\n",
    "mapa_base = WMSLayer(\n",
    "    url = url_wms,\n",
    "    layers = 'MapaBase_Politico',\n",
    "    format = 'image/png',\n",
    "    transparent = True,\n",
    "    attribution = 'GeoSampa'\n",
    ")\n",
    "\n",
    "lotes = WMSLayer(\n",
    "    url = 'http://wms.geosampa.prefeitura.sp.gov.br/geoserver/geoportal/wms',\n",
    "    layers = 'lote_cidadao',\n",
    "    format = 'image/png',\n",
    "    transparent = True,\n",
    "    attribution = 'GeoSampa'\n",
    ")\n",
    "\n",
    "m = Map(center=center, \n",
    "        zoom=17,\n",
    "       scroll_wheel_zoom = True)\n",
    "\n",
    "m.add_layer(mapa_base)\n",
    "m.add_layer(lotes)\n",
    "\n",
    "marker = Marker(location=center, draggable=True)\n",
    "m.add_layer(marker)\n",
    "\n",
    "from pyproj import Transformer\n",
    "transformer = Transformer.from_crs(31983, 4326)\n",
    "\n",
    "def handle_click(*args, **kwargs):\n",
    "    lote_xy = geo2utm(marker.location)\n",
    "    poligono_coord = get_polygon_coord(lote_xy)\n",
    "#     print(list(transformer.itransform(poligono_coord)))\n",
    "#     print(poligono_coord)\n",
    "    poligono = LeafLetPolygon(locations=list(transformer.itransform(poligono_coord)), \n",
    "                              color=\"green\", \n",
    "                              fill_color=\"green\")\n",
    "    global lote \n",
    "    lote = poligono\n",
    "    m.add_layer(poligono)\n",
    "    display(Polygon(poligono_coord))\n",
    "\n",
    "marker.on_click(handle_click)\n",
    "\n",
    "label = Label()\n",
    "display(label)\n",
    "\n",
    "def handle_interaction(**kwargs):\n",
    "    label.value = str(kwargs)\n",
    "\n",
    "m.on_interaction(handle_interaction)\n",
    "\n",
    "# m.layout.width = '900px'\n",
    "# m.layout.height = '450px'\n",
    "\n",
    "m"
   ]
  },
  {
   "cell_type": "code",
   "execution_count": 24,
   "metadata": {},
   "outputs": [
    {
     "data": {
      "text/plain": [
       "[-23.545527032248696, -46.634302139282234]"
      ]
     },
     "execution_count": 24,
     "metadata": {},
     "output_type": "execute_result"
    }
   ],
   "source": [
    "marker.location"
   ]
  },
  {
   "cell_type": "code",
   "execution_count": 26,
   "metadata": {},
   "outputs": [
    {
     "name": "stdout",
     "output_type": "stream",
     "text": [
      "Polygon(color='green', fill_color='green', locations=[(-23.545424027276308, -46.634586590015196), (-23.545370109135472, -46.634363769213635), (-23.545345896446833, -46.634364944988704), (-23.54530018517231, -46.634367163579064), (-23.54527696000648, -46.63436829083392), (-23.545200846746333, -46.634372451043134), (-23.54525349087717, -46.63425556271221), (-23.545182035689184, -46.63421500992285), (-23.545216841716552, -46.63417585790261), (-23.545357219936186, -46.634017948420954), (-23.545403733008442, -46.633965626731694), (-23.54570012042374, -46.63426851748719), (-23.545687761073978, -46.63428110892127), (-23.545424027276308, -46.634586590015196)], options=['class_name', 'color', 'dash_array', 'draggable', 'fill', 'fill_color', 'fill_opacity', 'line_cap', 'line_join', 'no_clip', 'opacity', 'pointer_events', 'smooth_factor', 'stroke', 'transform', 'weight'])\n"
     ]
    }
   ],
   "source": [
    "print(lote)"
   ]
  }
 ],
 "metadata": {
  "kernelspec": {
   "display_name": "Python 3",
   "language": "python",
   "name": "python3"
  },
  "language_info": {
   "codemirror_mode": {
    "name": "ipython",
    "version": 3
   },
   "file_extension": ".py",
   "mimetype": "text/x-python",
   "name": "python",
   "nbconvert_exporter": "python",
   "pygments_lexer": "ipython3",
   "version": "3.7.6"
  }
 },
 "nbformat": 4,
 "nbformat_minor": 4
}
